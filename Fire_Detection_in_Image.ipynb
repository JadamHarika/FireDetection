{
  "nbformat": 4,
  "nbformat_minor": 0,
  "metadata": {
    "colab": {
      "provenance": []
    },
    "kernelspec": {
      "name": "python3",
      "display_name": "Python 3"
    },
    "language_info": {
      "name": "python"
    }
  },
  "cells": [
    {
      "cell_type": "code",
      "execution_count": null,
      "metadata": {
        "id": "ISFyH-fEDoPf"
      },
      "outputs": [],
      "source": [
        "import os\n",
        "import cv2\n",
        "import numpy as np\n",
        "import tensorflow as tf\n",
        "from sklearn.model_selection import train_test_split\n",
        "from tensorflow.keras import layers, models\n",
        "import time"
      ]
    },
    {
      "cell_type": "code",
      "source": [
        "# prompt: import drive module and create variable for drive path and also mount it\n",
        "\n",
        "from google.colab import drive\n",
        "\n",
        "# Mount your Google Drive\n",
        "drive.mount('/content/drive')\n",
        "\n",
        "# Get the path to your data directory\n",
        "data_path = '/content/drive/My Drive/'\n"
      ],
      "metadata": {
        "colab": {
          "base_uri": "https://localhost:8080/"
        },
        "id": "15SDiTGrElqR",
        "outputId": "6fed3759-aeea-4cb8-9c45-d07a111c9b1d"
      },
      "execution_count": null,
      "outputs": [
        {
          "output_type": "stream",
          "name": "stdout",
          "text": [
            "Mounted at /content/drive\n"
          ]
        }
      ]
    },
    {
      "cell_type": "code",
      "source": [
        "from google.colab import drive\n",
        "drive.mount('/content/drive')"
      ],
      "metadata": {
        "colab": {
          "base_uri": "https://localhost:8080/"
        },
        "id": "DjstsvEHFzd2",
        "outputId": "4d7e0b18-828e-4215-a5d5-2c4dd56f3c36"
      },
      "execution_count": null,
      "outputs": [
        {
          "output_type": "stream",
          "name": "stdout",
          "text": [
            "Drive already mounted at /content/drive; to attempt to forcibly remount, call drive.mount(\"/content/drive\", force_remount=True).\n"
          ]
        }
      ]
    },
    {
      "cell_type": "code",
      "source": [
        "def load_dataset(folder_path):\n",
        "  images = []\n",
        "  labels = []\n",
        "\n",
        "  for label_folder in os.listdir(dataset_folder):\n",
        "    if(label_folder == \"Fire\"):\n",
        "      label = 1\n",
        "    else:\n",
        "      label = 0\n",
        "    label_path = os.path.join(dataset_folder, label_folder)\n",
        "    for image_file in os.listdir(label_path):\n",
        "        try:\n",
        "            image_path = os.path.join(label_path, image_file)\n",
        "            img = cv2.imread(image_path)\n",
        "            img = cv2.resize(img, (224, 224))\n",
        "            img = img / 255.0  # Normalize pixel values\n",
        "            images.append(img)\n",
        "            labels.append(label)\n",
        "        except:\n",
        "            print(f\"Error loading image: {image_path}\")\n",
        "    # images = []\n",
        "    # labels = []\n",
        "\n",
        "    # for label in os.listdir(folder_path):\n",
        "    #     print(label)\n",
        "    #     label_path = os.path.join(folder_path, label)\n",
        "    #     print(label_path)\n",
        "    #     if os.path.isdir(label_path):\n",
        "    #         for image_file in os.listdir(label_path):\n",
        "    #             print(image_file)\n",
        "    #             image_path = os.path.join(label_path, image_file)\n",
        "    #             img = cv2.imread(image_path)\n",
        "    #             img = cv2.resize(img, (224, 224))\n",
        "    #             img = img / 255.0  # Normalize pixel values\n",
        "    #             images.append(img)\n",
        "    #             labels.append(label)  # Assuming labels are folder names (0 or 1)\n",
        "\n",
        "  return np.array(images), np.array(labels)\n"
      ],
      "metadata": {
        "id": "SHx5djWHDu8J"
      },
      "execution_count": null,
      "outputs": []
    },
    {
      "cell_type": "code",
      "source": [
        "def detect_fire(image_path):\n",
        "    # Load the trained model\n",
        "    model = tf.keras.models.load_model(data_path+'model1/'+'fire_detection_model.h5')\n",
        "\n",
        "    # Load and preprocess the image\n",
        "    img = cv2.imread(image_path)\n",
        "    img = cv2.resize(img, (224, 224))\n",
        "    img = img / 255.0  # Normalize pixel values\n",
        "    img = np.reshape(img, (1, 224, 224, 3))  # Add batch dimension\n",
        "\n",
        "    # Make prediction\n",
        "    prediction = model.predict(img)\n",
        "\n",
        "    # Display result\n",
        "    if prediction[0][0] > 0.8:\n",
        "        print(\"Fire detected!\")\n",
        "    else:\n",
        "        print(\"No fire detected.\")\n"
      ],
      "metadata": {
        "id": "coonv2LlED_k"
      },
      "execution_count": null,
      "outputs": []
    },
    {
      "cell_type": "code",
      "source": [
        "dataset_folder = data_path+'Fire Dataset/'"
      ],
      "metadata": {
        "id": "OdQQ5EX3EJi4"
      },
      "execution_count": null,
      "outputs": []
    },
    {
      "cell_type": "code",
      "source": [
        "images, labels = load_dataset(dataset_folder)\n",
        "train_images, test_images, train_labels, test_labels = train_test_split(images, labels, test_size=0.2, random_state=42)\n"
      ],
      "metadata": {
        "id": "K5gHm4iEEMeV",
        "colab": {
          "base_uri": "https://localhost:8080/"
        },
        "outputId": "7df38c35-ad9b-4c77-93a2-db62d040637e"
      },
      "execution_count": null,
      "outputs": [
        {
          "output_type": "stream",
          "name": "stdout",
          "text": [
            "Error loading image: /content/drive/My Drive/Fire Dataset/Fire/F_921.jpg\n",
            "Error loading image: /content/drive/My Drive/Fire Dataset/Fire/F_922.jpg\n",
            "Error loading image: /content/drive/My Drive/Fire Dataset/Fire/F_923.jpg\n",
            "Error loading image: /content/drive/My Drive/Fire Dataset/Fire/F_924.jpg\n",
            "Error loading image: /content/drive/My Drive/Fire Dataset/Fire/F_94.jpg\n",
            "Error loading image: /content/drive/My Drive/Fire Dataset/Fire/F_93.jpg\n"
          ]
        }
      ]
    },
    {
      "cell_type": "code",
      "source": [
        "print(len(train_images),len(test_images))\n",
        "print(labels)"
      ],
      "metadata": {
        "colab": {
          "base_uri": "https://localhost:8080/"
        },
        "id": "VgaHGuduNgHH",
        "outputId": "49fbb99c-5d91-4028-b907-a8eb5924d2e9"
      },
      "execution_count": null,
      "outputs": [
        {
          "output_type": "stream",
          "name": "stdout",
          "text": [
            "180 45\n",
            "[1 1 1 1 1 1 1 1 1 1 1 1 1 1 1 1 1 1 1 1 1 1 1 1 1 1 1 1 1 1 1 1 1 1 1 1 1\n",
            " 1 1 1 1 1 1 1 1 1 1 1 1 1 1 1 1 1 1 1 1 1 1 1 1 1 1 1 1 1 1 1 1 1 1 1 1 1\n",
            " 1 1 1 1 1 1 1 1 1 1 1 1 1 1 1 1 1 1 1 1 1 1 1 1 1 1 1 1 1 1 1 0 0 0 0 0 0\n",
            " 0 0 0 0 0 0 0 0 0 0 0 0 0 0 0 0 0 0 0 0 0 0 0 0 0 0 0 0 0 0 0 0 0 0 0 0 0\n",
            " 0 0 0 0 0 0 0 0 0 0 0 0 0 0 0 0 0 0 0 0 0 0 0 0 0 0 0 0 0 0 0 0 0 0 0 0 0\n",
            " 0 0 0 0 0 0 0 0 0 0 0 0 0 0 0 0 0 0 0 0 0 0 0 0 0 0 0 0 0 0 0 0 0 0 0 0 0\n",
            " 0 0 0]\n"
          ]
        }
      ]
    },
    {
      "cell_type": "code",
      "source": [
        "print(train_labels.dtype)\n",
        "print(test_labels.dtype)"
      ],
      "metadata": {
        "colab": {
          "base_uri": "https://localhost:8080/"
        },
        "id": "CsVMh81VPETy",
        "outputId": "ebf26486-35e0-4f04-81be-1cecdbe9fdc9"
      },
      "execution_count": null,
      "outputs": [
        {
          "output_type": "stream",
          "name": "stdout",
          "text": [
            "int64\n",
            "int64\n"
          ]
        }
      ]
    },
    {
      "cell_type": "code",
      "source": [
        "train_labels = tf.cast(train_labels, tf.float32)\n",
        "test_labels = tf.cast(test_labels, tf.float32)"
      ],
      "metadata": {
        "id": "U-buiDWPPKex"
      },
      "execution_count": null,
      "outputs": []
    },
    {
      "cell_type": "code",
      "source": [
        "print(train_labels.dtype)\n",
        "print(test_labels.dtype)"
      ],
      "metadata": {
        "colab": {
          "base_uri": "https://localhost:8080/"
        },
        "id": "b0Fy8heKP04c",
        "outputId": "06c0c733-4a1f-4b38-b7e7-29385e71659c"
      },
      "execution_count": null,
      "outputs": [
        {
          "output_type": "stream",
          "name": "stdout",
          "text": [
            "<dtype: 'float32'>\n",
            "<dtype: 'float32'>\n"
          ]
        }
      ]
    },
    {
      "cell_type": "code",
      "source": [
        "model = models.Sequential()\n",
        "model.add(layers.Conv2D(32, (3, 3), activation='relu', input_shape=(224, 224, 3)))\n",
        "model.add(layers.MaxPooling2D((2, 2)))\n",
        "model.add(layers.Conv2D(64, (3, 3), activation='relu'))\n",
        "model.add(layers.MaxPooling2D((2, 2)))\n",
        "model.add(layers.Flatten())\n",
        "model.add(layers.Dense(128, activation='relu'))\n",
        "model.add(layers.Dense(1, activation='sigmoid'))"
      ],
      "metadata": {
        "id": "2bp51WL0EQGI"
      },
      "execution_count": null,
      "outputs": []
    },
    {
      "cell_type": "code",
      "source": [
        "model.compile(optimizer='adam', loss='binary_crossentropy', metrics=['accuracy'])"
      ],
      "metadata": {
        "id": "8ENWqwEXEX6A"
      },
      "execution_count": null,
      "outputs": []
    },
    {
      "cell_type": "code",
      "source": [
        "model.fit(train_images, train_labels, epochs=10, validation_data=(test_images, test_labels))"
      ],
      "metadata": {
        "id": "qhMCi0D9Eap-",
        "colab": {
          "base_uri": "https://localhost:8080/"
        },
        "outputId": "3af9539b-fc87-431a-fcb4-e18763f78656"
      },
      "execution_count": null,
      "outputs": [
        {
          "output_type": "stream",
          "name": "stdout",
          "text": [
            "Epoch 1/10\n",
            "6/6 [==============================] - 21s 3s/step - loss: 6.4838 - accuracy: 0.5611 - val_loss: 2.1667 - val_accuracy: 0.3556\n",
            "Epoch 2/10\n",
            "6/6 [==============================] - 18s 3s/step - loss: 0.5718 - accuracy: 0.7667 - val_loss: 0.7295 - val_accuracy: 0.8000\n",
            "Epoch 3/10\n",
            "6/6 [==============================] - 18s 3s/step - loss: 0.2283 - accuracy: 0.9278 - val_loss: 0.3089 - val_accuracy: 0.8889\n",
            "Epoch 4/10\n",
            "6/6 [==============================] - 20s 3s/step - loss: 0.1327 - accuracy: 0.9556 - val_loss: 0.5151 - val_accuracy: 0.7778\n",
            "Epoch 5/10\n",
            "6/6 [==============================] - 19s 3s/step - loss: 0.2385 - accuracy: 0.9278 - val_loss: 0.4069 - val_accuracy: 0.8889\n",
            "Epoch 6/10\n",
            "6/6 [==============================] - 18s 3s/step - loss: 0.1538 - accuracy: 0.9500 - val_loss: 0.4503 - val_accuracy: 0.8222\n",
            "Epoch 7/10\n",
            "6/6 [==============================] - 18s 3s/step - loss: 0.1318 - accuracy: 0.9556 - val_loss: 0.3698 - val_accuracy: 0.9111\n",
            "Epoch 8/10\n",
            "6/6 [==============================] - 20s 3s/step - loss: 0.1152 - accuracy: 0.9611 - val_loss: 0.3346 - val_accuracy: 0.8889\n",
            "Epoch 9/10\n",
            "6/6 [==============================] - 19s 3s/step - loss: 0.0763 - accuracy: 0.9500 - val_loss: 0.3206 - val_accuracy: 0.9111\n",
            "Epoch 10/10\n",
            "6/6 [==============================] - 18s 3s/step - loss: 0.0662 - accuracy: 0.9778 - val_loss: 0.3321 - val_accuracy: 0.9111\n"
          ]
        },
        {
          "output_type": "execute_result",
          "data": {
            "text/plain": [
              "<keras.src.callbacks.History at 0x7cee90057df0>"
            ]
          },
          "metadata": {},
          "execution_count": 18
        }
      ]
    },
    {
      "cell_type": "code",
      "source": [
        "model.save(data_path+'model1/'+'fire_detection_model.h5')"
      ],
      "metadata": {
        "id": "ZyaqDnnNEfu-",
        "colab": {
          "base_uri": "https://localhost:8080/"
        },
        "outputId": "b7476fe1-0023-44a2-f87b-bbe91e8ee3cb"
      },
      "execution_count": null,
      "outputs": [
        {
          "output_type": "stream",
          "name": "stderr",
          "text": [
            "/usr/local/lib/python3.10/dist-packages/keras/src/engine/training.py:3103: UserWarning: You are saving your model as an HDF5 file via `model.save()`. This file format is considered legacy. We recommend using instead the native Keras format, e.g. `model.save('my_model.keras')`.\n",
            "  saving_api.save_model(\n"
          ]
        }
      ]
    },
    {
      "cell_type": "code",
      "source": [
        "detect_fire(\"/content/Fire.jpg\")"
      ],
      "metadata": {
        "colab": {
          "base_uri": "https://localhost:8080/"
        },
        "id": "Xrh57yivTTr2",
        "outputId": "4d04b331-ba53-4e5a-e74b-f39c8af8a517"
      },
      "execution_count": null,
      "outputs": [
        {
          "output_type": "stream",
          "name": "stdout",
          "text": [
            "1/1 [==============================] - 0s 112ms/step\n",
            "Fire detected!\n",
            "\u0007\n",
            "\u0007\n",
            "\u0007\n",
            "\u0007\n",
            "\u0007\n",
            "\u0007\n",
            "\u0007\n",
            "\u0007\n",
            "\u0007\n",
            "\u0007\n"
          ]
        }
      ]
    },
    {
      "cell_type": "code",
      "source": [],
      "metadata": {
        "id": "EgC7hHf0PNg4"
      },
      "execution_count": null,
      "outputs": []
    }
  ]
}